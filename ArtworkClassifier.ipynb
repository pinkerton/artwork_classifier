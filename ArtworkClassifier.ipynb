{
 "cells": [
  {
   "cell_type": "code",
   "execution_count": 5,
   "metadata": {},
   "outputs": [
    {
     "data": {
      "text/plain": [
       "Print                                            88972\n",
       "Photograph                                       28434\n",
       "Drawing                                          24966\n",
       "Book                                             13412\n",
       "Fragment                                          9405\n",
       "Piece                                             8634\n",
       "Negative                                          6258\n",
       "Painting                                          5887\n",
       "Baseball card, print                              5208\n",
       "Bowl                                              3535\n",
       "Figure                                            3089\n",
       "Baseball card                                     3046\n",
       "Polaroid                                          2706\n",
       "Vase                                              2669\n",
       "Dress                                             2468\n",
       "Baseball card, photograph                         2141\n",
       "Books Prints Ornament & Architecture              2127\n",
       "Ensemble                                          2119\n",
       "Plate                                             2074\n",
       "Medal                                             1945\n",
       "Print baseball card                               1942\n",
       "Dish                                              1897\n",
       "Evening dress                                     1855\n",
       "Panel                                             1647\n",
       "Hat                                               1560\n",
       "Bottle                                            1513\n",
       "Print collection ornament & architecture          1481\n",
       "Scarab                                            1473\n",
       "Hanging scroll                                    1448\n",
       "Carte-de-visite                                   1410\n",
       "                                                 ...  \n",
       "Watercooler                                          1\n",
       "Epitaph                                              1\n",
       "Seal pendant, bell shaped                            1\n",
       "Model farmyard, butchery                             1\n",
       "Album of photographs                                 1\n",
       "Shrine, statues, Ipunefer, Aashyt                    1\n",
       "Qur'an Case                                          1\n",
       "Woman's eight medallion ceremonial robe              1\n",
       "Mask fragment, gold leaf                             1\n",
       "Floorcoverings                                       1\n",
       "Menat, counterpoise, Wahibre                         1\n",
       "Alabastron in the form of a bird                     1\n",
       "Balustrade, Akhenaten and Aten cartouches            1\n",
       "Stall fragment                                       1\n",
       "Volute-krater, fragmentary                           1\n",
       "Plaque, Hathor head                                  1\n",
       "Head with polos                                      1\n",
       "Notebook page                                        1\n",
       "Upper half of statue                                 1\n",
       "Candlestick part                                     1\n",
       "Facsimile, Amenhotep III                             1\n",
       "Coffin, Tasheritmin, child mummy                     1\n",
       "Fragments, faience tubes                             1\n",
       "Amulet pendant, frog                                 1\n",
       "Handles of a bowl with shells                        1\n",
       "Amulet, \"Opening of the Mouth\" Peseshkef tool        1\n",
       "Scarab (in modern pendant)                           1\n",
       "Wedding knife, fork and sheath                       1\n",
       "Ax head with monkey figure                           1\n",
       "Musical repeater watch                               1\n",
       "Name: Object Name, Length: 27037, dtype: int64"
      ]
     },
     "execution_count": 5,
     "metadata": {},
     "output_type": "execute_result"
    }
   ],
   "source": [
    "df['Object Name'].value_counts()"
   ]
  },
  {
   "cell_type": "code",
   "execution_count": 2,
   "metadata": {},
   "outputs": [
    {
     "name": "stderr",
     "output_type": "stream",
     "text": [
      "/usr/local/lib/python3.6/site-packages/IPython/core/interactiveshell.py:2717: DtypeWarning: Columns (7,8,9,10,11,18,27,28,29,30,31,32,33,34,35,36,37,39) have mixed types. Specify dtype option on import or set low_memory=False.\n",
      "  interactivity=interactivity, compiler=compiler, result=result)\n"
     ]
    }
   ],
   "source": [
    "import numpy as np\n",
    "import pandas as pd\n",
    "import os\n",
    "\n",
    "df = pd.read_csv('MetObjects.csv')"
   ]
  },
  {
   "cell_type": "code",
   "execution_count": 7,
   "metadata": {},
   "outputs": [
    {
     "data": {
      "text/plain": [
       "Prints                                                                  69260\n",
       "Prints|Ephemera                                                         30033\n",
       "Photographs                                                             26821\n",
       "Drawings                                                                25230\n",
       "Books                                                                   14685\n",
       "Ceramics                                                                13332\n",
       "Paintings                                                               11038\n",
       "Textiles-Woven                                                          10995\n",
       "Photographs|Ephemera                                                    10940\n",
       "Glass                                                                    8838\n",
       "Negatives                                                                6460\n",
       "Vases                                                                    5050\n",
       "Textiles-Laces                                                           4966\n",
       "Prints|Ornament & Architecture                                           4554\n",
       "Sculpture                                                                4487\n",
       "Ceramics-Porcelain                                                       4104\n",
       "Textiles-Embroidered                                                     4093\n",
       "Metalwork-Silver                                                         3969\n",
       "Drawings|Ornament & Architecture                                         3910\n",
       "Books|Prints|Ornament & Architecture                                     3583\n",
       "Ceramics-Pottery                                                         3528\n",
       "Textiles                                                                 3078\n",
       "|                                                                        3073\n",
       "Textiles-Printed                                                         2559\n",
       "Jewelry                                                                  2414\n",
       "Metal                                                                    2401\n",
       "Metalwork                                                                2371\n",
       "Textiles-Trimmings                                                       1950\n",
       "Gold and Silver                                                          1937\n",
       "Metal-Ornaments                                                          1894\n",
       "                                                                        ...  \n",
       "Textiles-Laces|Textiles-Woven                                               1\n",
       "Collages|Sculpture                                                          1\n",
       "Bronzes|Miscellaneous-Bone, Ivory                                           1\n",
       "Prints|Books|(not assigned)                                                 1\n",
       "Books|Ornament & Architecture|Albums|Drawings                               1\n",
       "Negatives|Photographs                                                       1\n",
       "Firearms-Pistols-Accessories                                                1\n",
       "Chordophone and Aerophone-struck piano/ free reed keyboard|Paintings        1\n",
       "Wood-Implements|Hide-Implements|Beads                                       1\n",
       "Metalwork-Architectural                                                     1\n",
       "Metalwork-Silver In Combination|Glass                                       1\n",
       "Silver|Metal                                                                1\n",
       "Prints|Portfolio Covers                                                     1\n",
       "Lapidary Work-Gabbro                                                        1\n",
       "Prints-Fete|Prints|Ornament & Architecture                                  1\n",
       "Metalwork-Gold and Platinum|Jewelry                                         1\n",
       "Metalwork-Silver|Medals                                                     1\n",
       "Engravings                                                                  1\n",
       "Metalwork-Tablets-Inscribed                                                 1\n",
       "Lapidary Work-Lapis                                                         1\n",
       "Textiles-Woven|Textiles-Ecclesiastical|Textiles-Laces                       1\n",
       "Firearms-Guns-Match-Wheellock                                               1\n",
       "Textiles-Embroidered|Textiles-Costumes-Ecclesiastical                       1\n",
       "Textiles-Costumes|Textiles-Dyed and Embroidered                             1\n",
       "Paper-Documents|Prints                                                      1\n",
       "Albums|Books|Prints                                                         1\n",
       "Lapidary Work-Nicolo                                                        1\n",
       "Metalwork-Pewter|Glass                                                      1\n",
       "Bone/Ivory-Sculpture|Bone/Ivory-Containers                                  1\n",
       "Bone/Ivory                                                                  1\n",
       "Name: Classification, Length: 1077, dtype: int64"
      ]
     },
     "execution_count": 7,
     "metadata": {},
     "output_type": "execute_result"
    }
   ],
   "source": [
    "df['Classification'].value_counts()"
   ]
  },
  {
   "cell_type": "code",
   "execution_count": 118,
   "metadata": {},
   "outputs": [
    {
     "name": "stdout",
     "output_type": "stream",
     "text": [
      "Print                                                  26618\n",
      "Drawing                                                14165\n",
      "Fragment                                                8050\n",
      "Photograph                                              7682\n",
      "Piece                                                   6425\n",
      "Painting                                                3537\n",
      "Bowl                                                    2770\n",
      "Figure                                                  2244\n",
      "Vase                                                    2103\n",
      "Books Prints Ornament & Architecture                    2049\n",
      "Dish                                                    1647\n",
      "Plate                                                   1593\n",
      "Panel                                                   1323\n",
      "Bottle                                                  1303\n",
      "Medal                                                   1278\n",
      "Ornament                                                1093\n",
      "Jar                                                     1047\n",
      "Cup                                                      995\n",
      "Hanging scroll                                           941\n",
      "Netsuke                                                  927\n",
      "Plaque                                                   894\n",
      "Stamp seal                                               882\n",
      "Painting, miniature                                      881\n",
      "Statuette                                                843\n",
      "Vase fragment                                            838\n",
      "Sealing                                                  814\n",
      "Coin                                                     808\n",
      "Drawing ; Ornament and Architecture                      781\n",
      "Dress                                                    769\n",
      "Woodblock print                                          754\n",
      "                                                       ...  \n",
      "Facsimile, Userhat (TT 56), soldiers                       1\n",
      "Grand harmonicon                                           1\n",
      "Woven band                                                 1\n",
      "Head of Ceres or Demeter                                   1\n",
      "Fragment of a female figure                                1\n",
      "Compasses                                                  1\n",
      "Kohl jar, Sithathoryunet                                   1\n",
      "Dipper juglet, Levantine painted ware                      1\n",
      "Statuette of Tyche of Antioch (Antiochia)                  1\n",
      "Lebes gamikos, fragments of stand                          1\n",
      "Statuette, seated woman                                    1\n",
      "Facsimile, Minnakht (TT 87), garden                        1\n",
      "Egg beating box with lid                                   1\n",
      "Wall painting on white ground: candelabrum fragment        1\n",
      "Armet for the tourney                                      1\n",
      "Military jacket                                            1\n",
      "Ceremonial knife                                           1\n",
      "Reading chair                                              1\n",
      "Figurine fragment, dwarf                                   1\n",
      "Handle attachment for a bowl                               1\n",
      "Bowl rim fragment                                          1\n",
      "Chest (?) of Akhenaten                                     1\n",
      "Head of a grotesque, laughing man                          1\n",
      "Amulet, Ptah-Sokar                                         1\n",
      "Spoon case                                                 1\n",
      "Bead, drop                                                 1\n",
      "Spear-butt                                                 1\n",
      "Dikast's ticket                                            1\n",
      "Pedestal or base                                           1\n",
      "Bowl, Nun, lip fragment                                    1\n",
      "Name: Object Name, Length: 16877, dtype: int64\n"
     ]
    }
   ],
   "source": [
    "public_domain = df.loc[df['Is Public Domain'] == True]\n",
    "objects = public_domain['Object Name'].value_counts()\n",
    "print(objects)"
   ]
  },
  {
   "cell_type": "code",
   "execution_count": 16,
   "metadata": {},
   "outputs": [],
   "source": [
    "public_domain = df.loc[df['Is Public Domain'] == True]\n",
    "buckets = public_domain.groupby('Object Name').filter(lambda x: len(x) >= 1000)\n",
    "#buckets['Object Name'].value_counts()\n",
    "#links = buckets['Link Resource']\n",
    "#links.head()\n",
    "#links.loc[37:]\n",
    "#buckets = df.loc[df['']]\n",
    "#buckets.iloc[37:]\n",
    "#buckets['Link Resource'].index\n",
    "#objects = public_domain['Object Name'].value_counts()"
   ]
  },
  {
   "cell_type": "code",
   "execution_count": null,
   "metadata": {
    "collapsed": true
   },
   "outputs": [],
   "source": []
  },
  {
   "cell_type": "markdown",
   "metadata": {},
   "source": [
    "from scraper.met_scraper import get_starting_id\n",
    "starting_id = get_starting_id()\n",
    "downloaded = buckets.loc[:100888]\n",
    "downloaded['Object Name'].value_counts()"
   ]
  },
  {
   "cell_type": "code",
   "execution_count": 37,
   "metadata": {},
   "outputs": [],
   "source": [
    "with open(\"labels.txt\", \"w\") as j:\n",
    "    for index, row in downloaded.iterrows():\n",
    "        j.write(\"{}\\n\".format(row['Object Name']))"
   ]
  },
  {
   "cell_type": "code",
   "execution_count": 134,
   "metadata": {},
   "outputs": [
    {
     "name": "stdout",
     "output_type": "stream",
     "text": [
      "32    http://www.metmuseum.org/art/collection/search/33\n",
      "33    http://www.metmuseum.org/art/collection/search/34\n",
      "34    http://www.metmuseum.org/art/collection/search/35\n",
      "35    http://www.metmuseum.org/art/collection/search/36\n",
      "36    http://www.metmuseum.org/art/collection/search/37\n",
      "Name: Link Resource, dtype: object\n",
      "34 http://www.metmuseum.org/art/collection/search/33\n",
      "34 http://www.metmuseum.org/art/collection/search/34\n",
      "34 http://www.metmuseum.org/art/collection/search/35\n"
     ]
    }
   ],
   "source": [
    "pieces = public_domain['Link Resource']\n",
    "print(pieces.head())\n",
    "for artwork_id, link in pieces[:3].iteritems():\n",
    "    print(id, link)"
   ]
  },
  {
   "cell_type": "code",
   "execution_count": 72,
   "metadata": {},
   "outputs": [
    {
     "name": "stdout",
     "output_type": "stream",
     "text": [
      "<class 'bytes'>\n"
     ]
    }
   ],
   "source": [
    "import numpy as np\n",
    "import pandas as pd\n",
    "\n",
    "from bs4 import BeautifulSoup\n",
    "import requests\n",
    "import re\n",
    "\n",
    "response = requests.get(link, timeout=5)\n",
    "page_content = BeautifulSoup(response.content, \"html.parser\")\n",
    "download_button = page_content.find(class_='utility-menu__item utility-menu__item--download')"
   ]
  },
  {
   "cell_type": "code",
   "execution_count": 89,
   "metadata": {},
   "outputs": [
    {
     "data": {
      "text/plain": [
       "'jpg'"
      ]
     },
     "execution_count": 89,
     "metadata": {},
     "output_type": "execute_result"
    }
   ],
   "source": [
    "href = download_button.a['href']\n",
    "img_link = re.search('https\\S+.\\w', href).group(0)\n",
    "extension = re.search('.(\\w+)$', img_link).groups()[0]\n",
    "extension"
   ]
  },
  {
   "cell_type": "code",
   "execution_count": 59,
   "metadata": {
    "collapsed": true
   },
   "outputs": [],
   "source": [
    "response = requests.get(img_link, stream=True, timeout=5)"
   ]
  },
  {
   "cell_type": "code",
   "execution_count": 60,
   "metadata": {},
   "outputs": [
    {
     "ename": "NameError",
     "evalue": "name 'artwork_id' is not defined",
     "output_type": "error",
     "traceback": [
      "\u001b[0;31m---------------------------------------------------------------------------\u001b[0m",
      "\u001b[0;31mNameError\u001b[0m                                 Traceback (most recent call last)",
      "\u001b[0;32m<ipython-input-60-83a956aab308>\u001b[0m in \u001b[0;36m<module>\u001b[0;34m()\u001b[0m\n\u001b[0;32m----> 1\u001b[0;31m \u001b[0;32mwith\u001b[0m \u001b[0mopen\u001b[0m\u001b[0;34m(\u001b[0m\u001b[0;34m\"images/{}.{}\"\u001b[0m\u001b[0;34m.\u001b[0m\u001b[0mformat\u001b[0m\u001b[0;34m(\u001b[0m\u001b[0martwork_id\u001b[0m\u001b[0;34m,\u001b[0m \u001b[0mextension\u001b[0m\u001b[0;34m)\u001b[0m\u001b[0;34m,\u001b[0m \u001b[0;34m'wb'\u001b[0m\u001b[0;34m)\u001b[0m \u001b[0;32mas\u001b[0m \u001b[0mout_file\u001b[0m\u001b[0;34m:\u001b[0m\u001b[0;34m\u001b[0m\u001b[0m\n\u001b[0m\u001b[1;32m      2\u001b[0m     \u001b[0mresponse\u001b[0m\u001b[0;34m.\u001b[0m\u001b[0mraw\u001b[0m\u001b[0;34m.\u001b[0m\u001b[0mdecode_content\u001b[0m \u001b[0;34m=\u001b[0m \u001b[0;32mTrue\u001b[0m\u001b[0;34m\u001b[0m\u001b[0m\n\u001b[1;32m      3\u001b[0m     \u001b[0mshutil\u001b[0m\u001b[0;34m.\u001b[0m\u001b[0mcopyfileobj\u001b[0m\u001b[0;34m(\u001b[0m\u001b[0mresponse\u001b[0m\u001b[0;34m.\u001b[0m\u001b[0mraw\u001b[0m\u001b[0;34m,\u001b[0m \u001b[0mout_file\u001b[0m\u001b[0;34m)\u001b[0m\u001b[0;34m\u001b[0m\u001b[0m\n\u001b[1;32m      4\u001b[0m \u001b[0;32mdel\u001b[0m \u001b[0mresponse\u001b[0m\u001b[0;34m\u001b[0m\u001b[0m\n",
      "\u001b[0;31mNameError\u001b[0m: name 'artwork_id' is not defined"
     ]
    }
   ],
   "source": [
    "with open(\"images/{}.{}\".format(artwork_id, extension), 'wb') as out_file:\n",
    "    response.raw.decode_content = True\n",
    "    shutil.copyfileobj(response.raw, out_file)\n",
    "del response"
   ]
  },
  {
   "cell_type": "code",
   "execution_count": 1,
   "metadata": {},
   "outputs": [
    {
     "ename": "NameError",
     "evalue": "name 'df' is not defined",
     "output_type": "error",
     "traceback": [
      "\u001b[0;31m---------------------------------------------------------------------------\u001b[0m",
      "\u001b[0;31mNameError\u001b[0m                                 Traceback (most recent call last)",
      "\u001b[0;32m<ipython-input-1-0c21190290be>\u001b[0m in \u001b[0;36m<module>\u001b[0;34m()\u001b[0m\n\u001b[0;32m----> 1\u001b[0;31m \u001b[0mdf\u001b[0m\u001b[0;34m.\u001b[0m\u001b[0minfo\u001b[0m\u001b[0;34m\u001b[0m\u001b[0m\n\u001b[0m",
      "\u001b[0;31mNameError\u001b[0m: name 'df' is not defined"
     ]
    }
   ],
   "source": [
    "df.info"
   ]
  },
  {
   "cell_type": "code",
   "execution_count": null,
   "metadata": {
    "collapsed": true
   },
   "outputs": [],
   "source": []
  },
  {
   "cell_type": "code",
   "execution_count": null,
   "metadata": {
    "collapsed": true
   },
   "outputs": [],
   "source": []
  }
 ],
 "metadata": {
  "kernelspec": {
   "display_name": "Python 3",
   "language": "python",
   "name": "python3"
  },
  "language_info": {
   "codemirror_mode": {
    "name": "ipython",
    "version": 3
   },
   "file_extension": ".py",
   "mimetype": "text/x-python",
   "name": "python",
   "nbconvert_exporter": "python",
   "pygments_lexer": "ipython3",
   "version": "3.6.5"
  }
 },
 "nbformat": 4,
 "nbformat_minor": 2
}
